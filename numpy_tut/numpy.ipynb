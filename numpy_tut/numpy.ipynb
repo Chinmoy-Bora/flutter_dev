{
 "cells": [
  {
   "cell_type": "code",
   "execution_count": 4,
   "id": "febad19d",
   "metadata": {},
   "outputs": [
    {
     "name": "stdout",
     "output_type": "stream",
     "text": [
      "1\n",
      "2\n",
      "3\n",
      "4\n",
      "[1, 2, 3, 4]\n"
     ]
    }
   ],
   "source": [
    "lst =[]\n",
    "\n",
    "for i in range (0,4):\n",
    "    a =int(input())\n",
    "    lst.append(a)\n",
    "print(lst)"
   ]
  },
  {
   "cell_type": "code",
   "execution_count": 6,
   "id": "11606f85",
   "metadata": {},
   "outputs": [
    {
     "name": "stdout",
     "output_type": "stream",
     "text": [
      "[1 2 3 4]\n"
     ]
    }
   ],
   "source": [
    "import numpy as np\n",
    "x=[1,2,3,4]\n",
    "b=np.array(x)\n",
    "print(b)\n"
   ]
  },
  {
   "cell_type": "code",
   "execution_count": 15,
   "id": "c5e5a049",
   "metadata": {},
   "outputs": [
    {
     "name": "stdout",
     "output_type": "stream",
     "text": [
      "[[0.5        0.66666667 1.75       0.8       ]\n",
      " [0.5        0.66666667 0.75       0.8       ]]\n",
      "8.78 ns ± 0.0484 ns per loop (mean ± std. dev. of 7 runs, 100,000,000 loops each)\n"
     ]
    }
   ],
   "source": [
    "var1 = np.array([[1,2,7,4],[1,2,3,4]])\n",
    "var2 = np.array([[2,3,4,5],[2,3,4,5]])\n",
    "\n",
    "var3 = np.divide(var1,var2)\n",
    "print(var3)\n",
    "%timeit var3"
   ]
  },
  {
   "cell_type": "code",
   "execution_count": 27,
   "id": "70de0ba9",
   "metadata": {},
   "outputs": [
    {
     "name": "stdout",
     "output_type": "stream",
     "text": [
      "[[1 2 7 4]\n",
      " [1 2 3 4]]\n",
      "[0 1 2]\n"
     ]
    }
   ],
   "source": [
    "import numpy as np\n",
    "var1 = np.array([[1,2,7,4],[1,2,3,4]])\n",
    "var2=var1.copy()\n",
    "print(var2)\n",
    "\n",
    "var3=np.arange()\n",
    "print(var3)\n"
   ]
  },
  {
   "cell_type": "code",
   "execution_count": 48,
   "id": "286b1d31",
   "metadata": {},
   "outputs": [
    {
     "name": "stdout",
     "output_type": "stream",
     "text": [
      "[[[[1 2]\n",
      "   [2 3]]\n",
      "\n",
      "  [[5 6]\n",
      "   [7 8]]]]\n"
     ]
    }
   ],
   "source": [
    "import numpy as np\n",
    "var1=np.array([[[1,2],[2,3]]])\n",
    "var2=np.array([[[5,6],[7,8]]])\n",
    "\n",
    "var3=np.stack(((var1,var2)),axis=1)\n",
    "\n",
    "print(var3)"
   ]
  },
  {
   "cell_type": "code",
   "execution_count": 56,
   "id": "60902ab4",
   "metadata": {},
   "outputs": [
    {
     "name": "stdout",
     "output_type": "stream",
     "text": [
      "[array([[[[1, 2],\n",
      "         [2, 3]]]]), array([[[[5, 6],\n",
      "         [7, 8]]]]), array([], shape=(1, 0, 2, 2), dtype=int64)]\n"
     ]
    }
   ],
   "source": [
    "import numpy as np\n",
    "var1=np.array([[[1,2],[2,3]]])\n",
    "var2=np.array([[[5,6],[7,8]]])\n",
    "\n",
    "var3=np.stack(((var1,var2)),axis=1)\n",
    "\n",
    "var4=np.array_split(var3,3,axis=1)\n",
    "print(var4)"
   ]
  },
  {
   "cell_type": "code",
   "execution_count": 86,
   "id": "a9d62aca",
   "metadata": {},
   "outputs": [
    {
     "name": "stdout",
     "output_type": "stream",
     "text": [
      "[[1 2 3 4]]\n"
     ]
    }
   ],
   "source": [
    "import numpy as np\n",
    "\n",
    "var =np.array([1,2,3,4])\n",
    "\n",
    "var2=var.reshape(1,4)\n",
    "print(var2)"
   ]
  },
  {
   "cell_type": "code",
   "execution_count": 88,
   "id": "5e9df296",
   "metadata": {},
   "outputs": [],
   "source": [
    "from PIL import Image\n",
    "import numpy as np\n",
    "\n",
    "\n",
    "pixels = [\n",
    "   [(54, 54, 54), (232, 23, 93), (71, 71, 71), (168, 167, 167)],\n",
    "   [(204, 82, 122), (54, 54, 54), (168, 167, 167), (232, 23, 93)],\n",
    "   [(71, 71, 71), (168, 167, 167), (54, 54, 54), (204, 82, 122)],\n",
    "   [(168, 167, 167), (204, 82, 122), (232, 23, 93), (54, 54, 54)]\n",
    "]\n",
    "\n",
    "# Convert the pixels into an array using numpy\n",
    "array = np.array(pixels, dtype=np.uint8)\n",
    "\n",
    "# Use PIL to create an image from the new array of pixels\n",
    "new_image = Image.fromarray(array)\n",
    "new_image.save('new.png')"
   ]
  },
  {
   "cell_type": "code",
   "execution_count": null,
   "id": "613f5a2e",
   "metadata": {},
   "outputs": [],
   "source": []
  }
 ],
 "metadata": {
  "kernelspec": {
   "display_name": "Python 3 (ipykernel)",
   "language": "python",
   "name": "python3"
  },
  "language_info": {
   "codemirror_mode": {
    "name": "ipython",
    "version": 3
   },
   "file_extension": ".py",
   "mimetype": "text/x-python",
   "name": "python",
   "nbconvert_exporter": "python",
   "pygments_lexer": "ipython3",
   "version": "3.11.3"
  }
 },
 "nbformat": 4,
 "nbformat_minor": 5
}
